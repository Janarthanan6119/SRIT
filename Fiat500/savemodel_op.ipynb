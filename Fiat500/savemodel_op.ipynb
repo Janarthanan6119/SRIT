{
 "cells": [
  {
   "cell_type": "markdown",
   "metadata": {},
   "source": [
    "It is not used for deployment of flask. We can run this in Jupyter Notebook to get the input from the user and predict the result without using flask."
   ]
  },
  {
   "cell_type": "code",
   "execution_count": 1,
   "metadata": {},
   "outputs": [],
   "source": [
    "import pandas as pd\n",
    "import pickle"
   ]
  },
  {
   "cell_type": "code",
   "execution_count": 4,
   "metadata": {},
   "outputs": [
    {
     "name": "stderr",
     "output_type": "stream",
     "text": [
      "C:\\Users\\malar\\anaconda3\\lib\\site-packages\\sklearn\\base.py:376: InconsistentVersionWarning: Trying to unpickle estimator LinearRegression from version 1.1.2 when using version 1.4.1.post1. This might lead to breaking code or invalid results. Use at your own risk. For more info please refer to:\n",
      "https://scikit-learn.org/stable/model_persistence.html#security-maintainability-limitations\n",
      "  warnings.warn(\n"
     ]
    }
   ],
   "source": [
    "filename='model.pkl'\n",
    "model=pickle.load(open(filename,'rb'))"
   ]
  },
  {
   "cell_type": "code",
   "execution_count": 5,
   "metadata": {},
   "outputs": [
    {
     "name": "stdout",
     "output_type": "stream",
     "text": [
      "enter 51\n",
      "age in days3000\n",
      "km done65000\n",
      "owner1\n"
     ]
    },
    {
     "name": "stderr",
     "output_type": "stream",
     "text": [
      "C:\\Users\\malar\\anaconda3\\lib\\site-packages\\sklearn\\base.py:493: UserWarning: X does not have valid feature names, but LinearRegression was fitted with feature names\n",
      "  warnings.warn(\n"
     ]
    },
    {
     "data": {
      "text/plain": [
       "array([7260.15255767])"
      ]
     },
     "execution_count": 5,
     "metadata": {},
     "output_type": "execute_result"
    }
   ],
   "source": [
    "#print(\"enter bhp\")\n",
    "hp=int(input(\"enter \"))\n",
    "age=int(input(\"age in days\"))\n",
    "km=int(input(\"km done\"))\n",
    "owner=int(input(\"owner\"))\n",
    "Real=[[hp,age,km,owner,1,0,0]]\n",
    "\n",
    "\n",
    "#X_test=[[1,51,720,14000,1],[1,51,882,20000,1],[1,51,882,25000,1]]\n",
    "#Real=[[51 ,700 ,48000 ,1 ,1],[51 ,1066 ,70000 ,1 ,1],[51 ,1670,18350 ,1, 1]]\n",
    "#last#Real=[[51 ,3000 ,100000 ,1 ,1 ,0 ,0],[51 ,500 ,10000 ,1 ,1 ,0 ,0],[51 ,300,4035 ,1, 1, 0 ,0]]\n",
    "#predresult=model.predict(X_test)\n",
    "predresult=model.predict(Real)\n",
    "\n",
    "predresult"
   ]
  },
  {
   "cell_type": "code",
   "execution_count": 6,
   "metadata": {},
   "outputs": [
    {
     "data": {
      "text/plain": [
       "array([6609.00502954])"
      ]
     },
     "execution_count": 6,
     "metadata": {},
     "output_type": "execute_result"
    }
   ],
   "source": [
    "#predresult"
   ]
  },
  {
   "cell_type": "code",
   "execution_count": 9,
   "metadata": {},
   "outputs": [],
   "source": [
    "#array([9555.09605317, 8838.53830477, 9859.69667213])"
   ]
  },
  {
   "cell_type": "code",
   "execution_count": 17,
   "metadata": {},
   "outputs": [],
   "source": [
    "filename='pricemodel'\n",
    "model=pickle.load(open(filename,'rb'))"
   ]
  },
  {
   "cell_type": "code",
   "execution_count": 20,
   "metadata": {},
   "outputs": [
    {
     "name": "stderr",
     "output_type": "stream",
     "text": [
      "/home/manu/.local/lib/python3.8/site-packages/sklearn/base.py:450: UserWarning: X does not have valid feature names, but LinearRegression was fitted with feature names\n",
      "  warnings.warn(\n"
     ]
    }
   ],
   "source": [
    "X_test=[[1,51,670,32473,1],[1,51,913,29000,1],[1,51,762,18800,1]]\n",
    "#X_test=[[51 ,670 ,32473 ,1 ,1 ,0 ,0],[51 ,913 ,29000 ,1 ,1 ,0 ,0],[51 ,762 ,18800 ,1, 1, 0 ,0]]\n",
    "predresult=model.predict(X_test)"
   ]
  },
  {
   "cell_type": "code",
   "execution_count": 21,
   "metadata": {},
   "outputs": [
    {
     "data": {
      "text/plain": [
       "array([ 9841.90754881,  9699.31627673, 10014.19892635])"
      ]
     },
     "execution_count": 21,
     "metadata": {},
     "output_type": "execute_result"
    }
   ],
   "source": [
    "predresult"
   ]
  },
  {
   "cell_type": "code",
   "execution_count": null,
   "metadata": {},
   "outputs": [],
   "source": []
  }
 ],
 "metadata": {
  "kernelspec": {
   "display_name": "Python 3 (ipykernel)",
   "language": "python",
   "name": "python3"
  },
  "language_info": {
   "codemirror_mode": {
    "name": "ipython",
    "version": 3
   },
   "file_extension": ".py",
   "mimetype": "text/x-python",
   "name": "python",
   "nbconvert_exporter": "python",
   "pygments_lexer": "ipython3",
   "version": "3.9.12"
  }
 },
 "nbformat": 4,
 "nbformat_minor": 4
}
